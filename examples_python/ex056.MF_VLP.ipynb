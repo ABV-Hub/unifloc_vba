{
 "cells": [
  {
   "cell_type": "markdown",
   "metadata": {},
   "source": [
    "# Анализ расчета градиента давления с использованием различных гидравлических корреляций\n",
    "\n",
    "версия 0.1 от 5.5.20\n",
    "\n",
    "Что то нарисовать получилось, но надо еще подумать, что получилось то"
   ]
  },
  {
   "cell_type": "code",
   "execution_count": null,
   "metadata": {},
   "outputs": [],
   "source": [
    "# подготовимся к импорту API который находится в родительской папке относительно этой тетрадки\n",
    "import sys\n",
    "sys.path.insert(0,'..')\n",
    "import pandas as pd\n",
    "# импортируем api\n",
    "import unifloc_vba_python_api.python_api as python_api \n",
    "# готовим объект с доступом к надстройке. При этом надстройка откроется и запустится excel \n",
    "UniflocVBA = python_api.API(\"../UniflocVBA_7.xlam\")\n",
    "print(\"import excel with unifloc vba done. version \" + UniflocVBA.unf_version())"
   ]
  },
  {
   "cell_type": "code",
   "execution_count": null,
   "metadata": {},
   "outputs": [],
   "source": [
    "import matplotlib.pyplot as plt\n",
    "#%matplotlib inline\n",
    "plt.rcParams['figure.figsize'] = [12, 8]"
   ]
  },
  {
   "cell_type": "markdown",
   "metadata": {},
   "source": [
    "## Описание функции  `MF_dpdl_atmm`\n",
    "Расчет градиента давления может быть выполнен пользовательской функцией `MF_dpdl_atmm`\n",
    "Функция рассчитывает перепад давления для заданных параметров (расходов жидкости и газа в рабочих условиях и свойтсвах флюидов). Также рассчитывается и перепад давления из за трения.\n",
    "\n",
    "Расчет может быть проведен для нескольких корреляций, определяемых параметром `hcorr `. Возможные значения ниже. \n",
    "````python\n",
    "    BeggsBrill = 0\n",
    "    Ansari = 1\n",
    "    Unified = 2\n",
    "    Gray = 3\n",
    "    HagedornBrown = 4\n",
    "    SakharovMokhov = 5\n",
    "    gas = 10\n",
    "    Water = 11\n",
    "\n",
    "````\n",
    "Функция возвращает массив значений. Отдельные значения можно вытащить указав номер `param_out`\n",
    "````python\n",
    "param_out[0] = dPdLg_out_atmm * c_calibr_grav + dPdLf_out_atmm * c_calibr_fric  # общий градиент давления атм/м\n",
    "param_out[1] =dPdLg_out_atmm * c_calibr_grav # градиент давления гравитационный атм/м\n",
    "param_out[2] =dPdLf_out_atmm * c_calibr_fric # градиент давления трения атм/м\n",
    "param_out[3] =dPdLa_out_atmm # градиент давления инерционный  атм/м\n",
    "param_out[4] =Vsl_msec # приведенная скорость жидкости м/с\n",
    "param_out[5] =Vsg_msec # приведенная скорость газа м/с\n",
    "param_out[6] =Hl_out_fr # истинное содержание жидкости, liquid hold up\n",
    "param_out[7] =fpat_out_num # номер режима потока\n",
    "````\n",
    "\n",
    "Режимы потока кодируются следующими номерами для корреляции Ансари\n",
    "````python\n",
    "fpat_out_num = 100 ' \" liq\" = liquid\n",
    "fpat_out_num = 101 ' \" gas\" = gas\n",
    "fpat_out_num = 105 ' \"anul\" = annular\n",
    "fpat_out_num = 104 ' \"dbub\" = dispersed bubble\n",
    "fpat_out_num = 103 ' \"slug\" = slug\n",
    "fpat_out_num = 102 ' \"bubl\" = bubbly\n",
    "fpat_out_num = 199\n",
    "````"
   ]
  },
  {
   "cell_type": "code",
   "execution_count": null,
   "metadata": {},
   "outputs": [],
   "source": [
    "def covert_vba_result(vba_result, option=0):\n",
    "    if option == 0: #возвращаем только рассчитанные давление и температуру\n",
    "        result = vba_result[0][0], vba_result[0][1]\n",
    "    elif option == 1:\n",
    "        result = pd.DataFrame(vba_result) #возвращает необработанный DataFrame\n",
    "    elif option == 2:\n",
    "        result = pd.DataFrame(vba_result) #возвращает необработанный DataFrame\n",
    "        result.columns = result[result.index==2].iloc[0]\n",
    "        result = result[result.index>2]\n",
    "        result = result.set_index('hvert,m')\n",
    "    return result    "
   ]
  },
  {
   "cell_type": "code",
   "execution_count": null,
   "metadata": {},
   "outputs": [],
   "source": [
    "pvt_str_data = {\"gamma_gas\":0.6,\n",
    "\"gamma_oil\":0.86,\n",
    "\"gamma_wat\":1,\n",
    "\"rsb_m3m3\":100,\n",
    "\"rp_m3m3\":-1,\n",
    "\"pb_atma\":-1,\n",
    "\"tres_C\":90,\n",
    "\"bob_m3m3\":-1,\n",
    "\"muob_cP\":-1,\n",
    "\"PVTcorr\":0,\n",
    "\"ksep_fr\":0,\n",
    "\"p_ksep_atma\":-1,\n",
    "\"t_ksep_C\":-1,\n",
    "\"gas_only\":False\n",
    "               }"
   ]
  },
  {
   "cell_type": "code",
   "execution_count": null,
   "metadata": {},
   "outputs": [],
   "source": [
    "pipeline_data = {\"p_calc_from_atma\": 20,\n",
    "\"t_calc_from_C\": 20,\n",
    "\"t_val\":40,\n",
    "\"h_list_m\" : 2000,\n",
    "\"diam_list_mm\" : 50,\n",
    "\"qliq_sm3day\" : 100,\n",
    "\"fw_perc\":25,\n",
    "\"q_gas_sm3day\":0,\n",
    "\"str_PVT\":UniflocVBA.PVT_encode_string(**pvt_str_data),\n",
    "\"calc_flow_direction\":10,\n",
    "\"hydr_corr\":0,\n",
    "\"temp_method\":1,\n",
    "\"c_calibr\":1,\n",
    "\"roughness_m\":0.0001,\n",
    "\"out_curves\":2,\n",
    "\"out_curves_num_points\":10}"
   ]
  },
  {
   "cell_type": "code",
   "execution_count": null,
   "metadata": {},
   "outputs": [],
   "source": [
    "vba_result = UniflocVBA.MF_p_pipeline_atma(**pipeline_data)\n",
    "r = covert_vba_result(vba_result,2)\n",
    "r"
   ]
  },
  {
   "cell_type": "code",
   "execution_count": null,
   "metadata": {},
   "outputs": [],
   "source": [
    "for i in r.columns:\n",
    "    print(i)"
   ]
  },
  {
   "cell_type": "code",
   "execution_count": null,
   "metadata": {},
   "outputs": [],
   "source": [
    "def sense_profile(pipeline_data, pvt_str_data, parameter_sense, range_sense, pvt_edit=False, parameter_to_plot='p,atma'):\n",
    "    fig = plt.figure()\n",
    "    for i in range_sense:\n",
    "        if pvt_edit:\n",
    "            pvt_str_data[parameter_sense] = i\n",
    "            pipeline_data['str_PVT'] = UniflocVBA.PVT_encode_string(**pvt_str_data)\n",
    "        else:\n",
    "            pipeline_data[parameter_sense] = i\n",
    "        vba_result = UniflocVBA.MF_p_pipeline_atma(**pipeline_data)\n",
    "        r = covert_vba_result(vba_result,2)\n",
    "        plt.plot(r[parameter_to_plot], r.index * (-1), label = f\"{parameter_sense} = {i}\")\n",
    "    plt.legend(loc='upper right')\n",
    "    plt.xlabel(parameter_to_plot)\n",
    "    plt.ylabel('Глубина, м')\n",
    "    fig.suptitle(f\"Распределение параметра {parameter_to_plot} в фонтанирующей скважине при различных {parameter_sense}\", fontsize = 18)\n",
    "    plt.show()"
   ]
  },
  {
   "cell_type": "code",
   "execution_count": null,
   "metadata": {},
   "outputs": [],
   "source": [
    "sense_profile(pipeline_data.copy(), pvt_str_data.copy(), 'rsb_m3m3', [50, 60, 70], True, 'c_rhomix')"
   ]
  },
  {
   "cell_type": "code",
   "execution_count": null,
   "metadata": {},
   "outputs": [],
   "source": [
    "sense_profile(pipeline_data.copy(), pvt_str_data.copy(), 'hydr_corr', [0,1,2,3,4,5], False)"
   ]
  },
  {
   "cell_type": "code",
   "execution_count": null,
   "metadata": {},
   "outputs": [],
   "source": [
    "sense_profile(pipeline_data.copy(), pvt_str_data.copy(), 'qliq_sm3day', range(10,300,50), False)"
   ]
  },
  {
   "cell_type": "code",
   "execution_count": null,
   "metadata": {},
   "outputs": [],
   "source": [
    "def sense_vlp(pipeline_data, pvt_str_data, parameter_sense, range_sense, pvt_edit=False, q_list=range(10,300,50)):\n",
    "    fig = plt.figure()\n",
    "    for i in range_sense:\n",
    "        if pvt_edit:\n",
    "            pvt_str_data[parameter_sense] = i\n",
    "            pipeline_data['str_PVT'] = UniflocVBA.PVT_encode_string(**pvt_str_data)\n",
    "        else:\n",
    "            pipeline_data[parameter_sense] = i\n",
    "        p_atm_list=[]\n",
    "        for j in q_list:\n",
    "            pipeline_data['qliq_sm3day'] = j\n",
    "            vba_result = UniflocVBA.MF_p_pipeline_atma(**pipeline_data)\n",
    "            p_atm, t_c = covert_vba_result(vba_result,0)\n",
    "            p_atm_list.append(p_atm)\n",
    "        plt.plot(q_list,p_atm_list, label = f\"{parameter_sense} = {i}\")\n",
    "    plt.legend(loc='upper right')\n",
    "    plt.xlabel('Дебит, м3/сут')\n",
    "    plt.ylabel('Давление, атм')\n",
    "    fig.suptitle(\"Анализ чувстительности VLP\", fontsize = 18)\n",
    "    plt.show()"
   ]
  },
  {
   "cell_type": "code",
   "execution_count": null,
   "metadata": {},
   "outputs": [],
   "source": [
    "sense_vlp(pipeline_data.copy(), pvt_str_data.copy(), 'fw_perc', range(10,100,20), False, range(10,200,10))"
   ]
  },
  {
   "cell_type": "code",
   "execution_count": null,
   "metadata": {},
   "outputs": [],
   "source": [
    "sense_vlp(pipeline_data.copy(), pvt_str_data.copy(), 'rsb_m3m3', range(10,311,50), True, range(10,200,10))"
   ]
  }
 ],
 "metadata": {
  "kernelspec": {
   "display_name": "Python 3",
   "language": "python",
   "name": "python3"
  },
  "language_info": {
   "codemirror_mode": {
    "name": "ipython",
    "version": 3
   },
   "file_extension": ".py",
   "mimetype": "text/x-python",
   "name": "python",
   "nbconvert_exporter": "python",
   "pygments_lexer": "ipython3",
   "version": "3.7.6"
  }
 },
 "nbformat": 4,
 "nbformat_minor": 2
}
